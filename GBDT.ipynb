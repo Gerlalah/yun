{
 "cells": [
  {
   "cell_type": "code",
   "execution_count": 3,
   "metadata": {
    "collapsed": false
   },
   "outputs": [],
   "source": [
    "#导包\n",
    "import pandas as pd\n",
    "import matplotlib.pyplot as plt\n",
    "import numpy as np\n",
    "from sklearn.model_selection import train_test_split\n",
    "from sklearn.ensemble import GradientBoostingClassifier\n",
    "from sklearn import metrics\n",
    "from sklearn.model_selection import GridSearchCV\n",
    "from sklearn.model_selection import RandomizedSearchCV\n",
    "\n",
    "data = pd.read_csv('/home/aistudio/train.csv')  # 导入数据\n",
    "data['subscribe'] = data['subscribe'].map({\"no\":0, \"yes\":1}) #把yes，no变成1,0"
   ]
  },
  {
   "cell_type": "code",
   "execution_count": 4,
   "metadata": {
    "collapsed": false
   },
   "outputs": [
    {
     "data": {
      "text/html": [
       "<div>\n",
       "<style scoped>\n",
       "    .dataframe tbody tr th:only-of-type {\n",
       "        vertical-align: middle;\n",
       "    }\n",
       "\n",
       "    .dataframe tbody tr th {\n",
       "        vertical-align: top;\n",
       "    }\n",
       "\n",
       "    .dataframe thead th {\n",
       "        text-align: right;\n",
       "    }\n",
       "</style>\n",
       "<table border=\"1\" class=\"dataframe\">\n",
       "  <thead>\n",
       "    <tr style=\"text-align: right;\">\n",
       "      <th></th>\n",
       "      <th>id</th>\n",
       "      <th>age</th>\n",
       "      <th>duration</th>\n",
       "      <th>campaign</th>\n",
       "      <th>pdays</th>\n",
       "      <th>previous</th>\n",
       "      <th>emp_var_rate</th>\n",
       "      <th>cons_price_index</th>\n",
       "      <th>cons_conf_index</th>\n",
       "      <th>lending_rate3m</th>\n",
       "      <th>nr_employed</th>\n",
       "      <th>subscribe</th>\n",
       "    </tr>\n",
       "  </thead>\n",
       "  <tbody>\n",
       "    <tr>\n",
       "      <th>count</th>\n",
       "      <td>22500.000000</td>\n",
       "      <td>22500.000000</td>\n",
       "      <td>22500.000000</td>\n",
       "      <td>22500.000000</td>\n",
       "      <td>22500.000000</td>\n",
       "      <td>22500.000000</td>\n",
       "      <td>22500.000000</td>\n",
       "      <td>22500.000000</td>\n",
       "      <td>22500.000000</td>\n",
       "      <td>22500.000000</td>\n",
       "      <td>22500.000000</td>\n",
       "      <td>22500.000000</td>\n",
       "    </tr>\n",
       "    <tr>\n",
       "      <th>mean</th>\n",
       "      <td>11250.500000</td>\n",
       "      <td>40.407511</td>\n",
       "      <td>1146.303733</td>\n",
       "      <td>3.364800</td>\n",
       "      <td>773.991956</td>\n",
       "      <td>1.316444</td>\n",
       "      <td>0.078529</td>\n",
       "      <td>93.548785</td>\n",
       "      <td>-39.877180</td>\n",
       "      <td>3.302490</td>\n",
       "      <td>5137.211285</td>\n",
       "      <td>0.131200</td>\n",
       "    </tr>\n",
       "    <tr>\n",
       "      <th>std</th>\n",
       "      <td>6495.334864</td>\n",
       "      <td>12.086078</td>\n",
       "      <td>1432.432125</td>\n",
       "      <td>7.223837</td>\n",
       "      <td>326.934334</td>\n",
       "      <td>1.918733</td>\n",
       "      <td>1.573831</td>\n",
       "      <td>2.805786</td>\n",
       "      <td>5.805442</td>\n",
       "      <td>1.611777</td>\n",
       "      <td>170.670611</td>\n",
       "      <td>0.337626</td>\n",
       "    </tr>\n",
       "    <tr>\n",
       "      <th>min</th>\n",
       "      <td>1.000000</td>\n",
       "      <td>16.000000</td>\n",
       "      <td>0.000000</td>\n",
       "      <td>0.000000</td>\n",
       "      <td>0.000000</td>\n",
       "      <td>0.000000</td>\n",
       "      <td>-3.400000</td>\n",
       "      <td>87.640000</td>\n",
       "      <td>-53.280000</td>\n",
       "      <td>0.600000</td>\n",
       "      <td>4715.420000</td>\n",
       "      <td>0.000000</td>\n",
       "    </tr>\n",
       "    <tr>\n",
       "      <th>25%</th>\n",
       "      <td>5625.750000</td>\n",
       "      <td>32.000000</td>\n",
       "      <td>143.000000</td>\n",
       "      <td>1.000000</td>\n",
       "      <td>557.750000</td>\n",
       "      <td>0.000000</td>\n",
       "      <td>-1.800000</td>\n",
       "      <td>91.190000</td>\n",
       "      <td>-44.160000</td>\n",
       "      <td>1.430000</td>\n",
       "      <td>5008.510000</td>\n",
       "      <td>0.000000</td>\n",
       "    </tr>\n",
       "    <tr>\n",
       "      <th>50%</th>\n",
       "      <td>11250.500000</td>\n",
       "      <td>38.000000</td>\n",
       "      <td>353.000000</td>\n",
       "      <td>1.000000</td>\n",
       "      <td>964.000000</td>\n",
       "      <td>0.000000</td>\n",
       "      <td>1.100000</td>\n",
       "      <td>93.540000</td>\n",
       "      <td>-40.600000</td>\n",
       "      <td>3.920000</td>\n",
       "      <td>5133.955000</td>\n",
       "      <td>0.000000</td>\n",
       "    </tr>\n",
       "    <tr>\n",
       "      <th>75%</th>\n",
       "      <td>16875.250000</td>\n",
       "      <td>47.000000</td>\n",
       "      <td>1873.000000</td>\n",
       "      <td>3.000000</td>\n",
       "      <td>1005.000000</td>\n",
       "      <td>2.000000</td>\n",
       "      <td>1.400000</td>\n",
       "      <td>95.920000</td>\n",
       "      <td>-35.797500</td>\n",
       "      <td>4.830000</td>\n",
       "      <td>5267.677500</td>\n",
       "      <td>0.000000</td>\n",
       "    </tr>\n",
       "    <tr>\n",
       "      <th>max</th>\n",
       "      <td>22500.000000</td>\n",
       "      <td>101.000000</td>\n",
       "      <td>5149.000000</td>\n",
       "      <td>57.000000</td>\n",
       "      <td>1048.000000</td>\n",
       "      <td>6.000000</td>\n",
       "      <td>1.400000</td>\n",
       "      <td>99.460000</td>\n",
       "      <td>-25.550000</td>\n",
       "      <td>5.270000</td>\n",
       "      <td>5489.500000</td>\n",
       "      <td>1.000000</td>\n",
       "    </tr>\n",
       "  </tbody>\n",
       "</table>\n",
       "</div>"
      ],
      "text/plain": [
       "                 id           age      duration      campaign         pdays  \\\n",
       "count  22500.000000  22500.000000  22500.000000  22500.000000  22500.000000   \n",
       "mean   11250.500000     40.407511   1146.303733      3.364800    773.991956   \n",
       "std     6495.334864     12.086078   1432.432125      7.223837    326.934334   \n",
       "min        1.000000     16.000000      0.000000      0.000000      0.000000   \n",
       "25%     5625.750000     32.000000    143.000000      1.000000    557.750000   \n",
       "50%    11250.500000     38.000000    353.000000      1.000000    964.000000   \n",
       "75%    16875.250000     47.000000   1873.000000      3.000000   1005.000000   \n",
       "max    22500.000000    101.000000   5149.000000     57.000000   1048.000000   \n",
       "\n",
       "           previous  emp_var_rate  cons_price_index  cons_conf_index  \\\n",
       "count  22500.000000  22500.000000      22500.000000     22500.000000   \n",
       "mean       1.316444      0.078529         93.548785       -39.877180   \n",
       "std        1.918733      1.573831          2.805786         5.805442   \n",
       "min        0.000000     -3.400000         87.640000       -53.280000   \n",
       "25%        0.000000     -1.800000         91.190000       -44.160000   \n",
       "50%        0.000000      1.100000         93.540000       -40.600000   \n",
       "75%        2.000000      1.400000         95.920000       -35.797500   \n",
       "max        6.000000      1.400000         99.460000       -25.550000   \n",
       "\n",
       "       lending_rate3m   nr_employed     subscribe  \n",
       "count    22500.000000  22500.000000  22500.000000  \n",
       "mean         3.302490   5137.211285      0.131200  \n",
       "std          1.611777    170.670611      0.337626  \n",
       "min          0.600000   4715.420000      0.000000  \n",
       "25%          1.430000   5008.510000      0.000000  \n",
       "50%          3.920000   5133.955000      0.000000  \n",
       "75%          4.830000   5267.677500      0.000000  \n",
       "max          5.270000   5489.500000      1.000000  "
      ]
     },
     "execution_count": 4,
     "metadata": {},
     "output_type": "execute_result"
    }
   ],
   "source": [
    "#查看数据概述\n",
    "data.describe()"
   ]
  },
  {
   "cell_type": "code",
   "execution_count": 5,
   "metadata": {
    "collapsed": false
   },
   "outputs": [
    {
     "name": "stdout",
     "output_type": "stream",
     "text": [
      "job 缺失率:0.76%\n",
      "marital 缺失率:0.88%\n",
      "education 缺失率:2.75%\n",
      "default 缺失率:13.44%\n",
      "housing 缺失率:2.45%\n",
      "loan 缺失率:2.46%\n"
     ]
    }
   ],
   "source": [
    "#查看数据缺失率\n",
    "data.shape\n",
    "data_s = data.select_dtypes(include=['object'])\n",
    "\n",
    "for i in range(len(data_s.columns)):\n",
    "    u = sum(data_s.iloc[:,i] == 'unknown')\n",
    "    if u > 0:\n",
    "        print(data_s.columns[i],'缺失率:%.2f%%'%(100*u/36169))\n",
    "    else:\n",
    "        pass\n"
   ]
  },
  {
   "cell_type": "code",
   "execution_count": 10,
   "metadata": {
    "collapsed": false
   },
   "outputs": [
    {
     "data": {
      "text/plain": [
       "0    19548\n",
       "1     2952\n",
       "Name: subscribe, dtype: int64"
      ]
     },
     "execution_count": 10,
     "metadata": {},
     "output_type": "execute_result"
    }
   ],
   "source": [
    "#查看subscribe的情况\r\n",
    "data.subscribe.value_counts()"
   ]
  },
  {
   "cell_type": "code",
   "execution_count": 6,
   "metadata": {
    "collapsed": false
   },
   "outputs": [
    {
     "name": "stdout",
     "output_type": "stream",
     "text": [
      "age                   int64\n",
      "job                  object\n",
      "marital              object\n",
      "education            object\n",
      "default              object\n",
      "housing              object\n",
      "loan                 object\n",
      "contact              object\n",
      "month                object\n",
      "day_of_week          object\n",
      "duration              int64\n",
      "campaign              int64\n",
      "pdays                 int64\n",
      "previous              int64\n",
      "poutcome             object\n",
      "emp_var_rate        float64\n",
      "cons_price_index    float64\n",
      "cons_conf_index     float64\n",
      "lending_rate3m      float64\n",
      "nr_employed         float64\n",
      "subscribe             int64\n",
      "dtype: object\n",
      "object     10\n",
      "int64       6\n",
      "float64     5\n",
      "dtype: int64\n",
      "age                   int64\n",
      "job                  object\n",
      "marital              object\n",
      "education            object\n",
      "default              object\n",
      "housing              object\n",
      "loan                 object\n",
      "contact              object\n",
      "month                object\n",
      "day_of_week          object\n",
      "duration              int64\n",
      "campaign              int64\n",
      "pdays                 int64\n",
      "previous              int64\n",
      "poutcome             object\n",
      "emp_var_rate        float64\n",
      "cons_price_index    float64\n",
      "cons_conf_index     float64\n",
      "lending_rate3m      float64\n",
      "nr_employed         float64\n",
      "subscribe             int64\n",
      "dtype: object\n"
     ]
    }
   ],
   "source": [
    "#独热编码\n",
    "data_df = data.drop(['id'], axis=1)\n",
    "data_dummy = pd.get_dummies(data_df.select_dtypes(include=['object']))\n",
    "data_oh = pd.concat([data_dummy, data_df.select_dtypes(exclude=['object'])], axis=1)\n",
    "\n"
   ]
  },
  {
   "cell_type": "code",
   "execution_count": 8,
   "metadata": {
    "collapsed": false
   },
   "outputs": [
    {
     "name": "stdout",
     "output_type": "stream",
     "text": [
      "<class 'pandas.core.frame.DataFrame'>\n",
      "RangeIndex: 22500 entries, 0 to 22499\n",
      "Data columns (total 64 columns):\n",
      " #   Column                         Non-Null Count  Dtype  \n",
      "---  ------                         --------------  -----  \n",
      " 0   job_admin.                     22500 non-null  uint8  \n",
      " 1   job_blue-collar                22500 non-null  uint8  \n",
      " 2   job_entrepreneur               22500 non-null  uint8  \n",
      " 3   job_housemaid                  22500 non-null  uint8  \n",
      " 4   job_management                 22500 non-null  uint8  \n",
      " 5   job_retired                    22500 non-null  uint8  \n",
      " 6   job_self-employed              22500 non-null  uint8  \n",
      " 7   job_services                   22500 non-null  uint8  \n",
      " 8   job_student                    22500 non-null  uint8  \n",
      " 9   job_technician                 22500 non-null  uint8  \n",
      " 10  job_unemployed                 22500 non-null  uint8  \n",
      " 11  job_unknown                    22500 non-null  uint8  \n",
      " 12  marital_divorced               22500 non-null  uint8  \n",
      " 13  marital_married                22500 non-null  uint8  \n",
      " 14  marital_single                 22500 non-null  uint8  \n",
      " 15  marital_unknown                22500 non-null  uint8  \n",
      " 16  education_basic.4y             22500 non-null  uint8  \n",
      " 17  education_basic.6y             22500 non-null  uint8  \n",
      " 18  education_basic.9y             22500 non-null  uint8  \n",
      " 19  education_high.school          22500 non-null  uint8  \n",
      " 20  education_illiterate           22500 non-null  uint8  \n",
      " 21  education_professional.course  22500 non-null  uint8  \n",
      " 22  education_university.degree    22500 non-null  uint8  \n",
      " 23  education_unknown              22500 non-null  uint8  \n",
      " 24  default_no                     22500 non-null  uint8  \n",
      " 25  default_unknown                22500 non-null  uint8  \n",
      " 26  default_yes                    22500 non-null  uint8  \n",
      " 27  housing_no                     22500 non-null  uint8  \n",
      " 28  housing_unknown                22500 non-null  uint8  \n",
      " 29  housing_yes                    22500 non-null  uint8  \n",
      " 30  loan_no                        22500 non-null  uint8  \n",
      " 31  loan_unknown                   22500 non-null  uint8  \n",
      " 32  loan_yes                       22500 non-null  uint8  \n",
      " 33  contact_cellular               22500 non-null  uint8  \n",
      " 34  contact_telephone              22500 non-null  uint8  \n",
      " 35  month_apr                      22500 non-null  uint8  \n",
      " 36  month_aug                      22500 non-null  uint8  \n",
      " 37  month_dec                      22500 non-null  uint8  \n",
      " 38  month_jul                      22500 non-null  uint8  \n",
      " 39  month_jun                      22500 non-null  uint8  \n",
      " 40  month_mar                      22500 non-null  uint8  \n",
      " 41  month_may                      22500 non-null  uint8  \n",
      " 42  month_nov                      22500 non-null  uint8  \n",
      " 43  month_oct                      22500 non-null  uint8  \n",
      " 44  month_sep                      22500 non-null  uint8  \n",
      " 45  day_of_week_fri                22500 non-null  uint8  \n",
      " 46  day_of_week_mon                22500 non-null  uint8  \n",
      " 47  day_of_week_thu                22500 non-null  uint8  \n",
      " 48  day_of_week_tue                22500 non-null  uint8  \n",
      " 49  day_of_week_wed                22500 non-null  uint8  \n",
      " 50  poutcome_failure               22500 non-null  uint8  \n",
      " 51  poutcome_nonexistent           22500 non-null  uint8  \n",
      " 52  poutcome_success               22500 non-null  uint8  \n",
      " 53  age                            22500 non-null  int64  \n",
      " 54  duration                       22500 non-null  int64  \n",
      " 55  campaign                       22500 non-null  int64  \n",
      " 56  pdays                          22500 non-null  int64  \n",
      " 57  previous                       22500 non-null  int64  \n",
      " 58  emp_var_rate                   22500 non-null  float64\n",
      " 59  cons_price_index               22500 non-null  float64\n",
      " 60  cons_conf_index                22500 non-null  float64\n",
      " 61  lending_rate3m                 22500 non-null  float64\n",
      " 62  nr_employed                    22500 non-null  float64\n",
      " 63  subscribe                      22500 non-null  int64  \n",
      "dtypes: float64(5), int64(6), uint8(53)\n",
      "memory usage: 3.0 MB\n"
     ]
    }
   ],
   "source": [
    "data_oh.info()"
   ]
  },
  {
   "cell_type": "code",
   "execution_count": 11,
   "metadata": {
    "collapsed": false
   },
   "outputs": [],
   "source": [
    "# 数据集划分\n",
    "X = data_oh.drop(['subscribe'], axis=1)   \n",
    "y = data_oh.subscribe                  \n",
    "#测试集占训练集30%\n",
    "Xtrain, Xtest, ytrain, ytest = train_test_split(X, y, test_size=0.3, random_state=90)\n"
   ]
  },
  {
   "cell_type": "markdown",
   "metadata": {
    "collapsed": false
   },
   "source": [
    "GBDT(Gradient Boosting Decision Tree)是目前工业和各种竞赛中非常抢手的模型，性能表现出色，特别是XgBoost，LightGBM推出后，模型性能和运行效率进一步提升。GBDT模型是一个集成模型，基分类器采用CART，集成方式为Gradient Boosting。\n",
    "\n",
    "CART是一个分类回归二叉决策树，构建一棵二叉树，主要涉及到一下一个问题：\n",
    "\n",
    "怎么分裂一个特征？\n",
    "怎么选择最佳分裂特征？\n",
    "确定分裂的停止条件？\n",
    "决策树的优化：剪枝方法？\n",
    "因为CART是一棵二叉树，所以在分裂特征时与 ID3、C4.5有区别。\n",
    "CART在分类时采用最小平方误差来选择最优切分特征和切分点。\n",
    "\n",
    "Boosting\n",
    "Boosting是一种模型的组合方式，我们熟悉的AdaBoost就是一种Boosting的组合方式。和随机森林并行训练不同的决策树最后组合所有树的bagging方式不同，Boosting是一种递进的组合方式，每一个新的分类器都在前一个分类器的预测结果上改进，所以说boosting是减少bias而bagging是减少variance的模型组合方式。\n",
    "下面是GDBT的一个简单例子：判断用户是否会喜欢电脑游戏，特征有年龄，性别和职业。需要注意的是，GBDT无论是用于分类和回归，采用的都是回归树，分类问题最终是将拟合值转换为概率来进行分类的。\n",
    "\n",
    "![](https://ai-studio-static-online.cdn.bcebos.com/13dd4b65a70a4cf3b3b9b0e0c945c7757cc47534110940f088e6c15004c47b8b)\n",
    "\n",
    "在上图中,每个用户的最后的拟合值为两棵树的结果相加。\n",
    "\n",
    "GBDT的主要优点：\n",
    "\n",
    "　　1）可以灵活的处理各种类型的数据\n",
    "\n",
    "　　2）预测的准确率高\n",
    "\n",
    "　　3）使用了一些健壮的损失函数，如huber，可以很好的处理异常值\n",
    "\n",
    "GBDT的缺点：\n",
    "\n",
    "　　1）由于基学习器之间的依赖关系，难以并行化处理，不过可以通过子采样的SGBT来实现部分并行。\n",
    "\n",
    " "
   ]
  },
  {
   "cell_type": "code",
   "execution_count": 13,
   "metadata": {
    "collapsed": false
   },
   "outputs": [
    {
     "name": "stdout",
     "output_type": "stream",
     "text": [
      "Accuracy : 0.884\n",
      "f1 Score (Train): 0.360816\n"
     ]
    }
   ],
   "source": [
    "GBDT= GradientBoostingClassifier(random_state=90)\n",
    "GBDT.fit(Xtrain, ytrain)\n",
    "GBDT.score(Xtest, ytest)\n",
    "y_pred= GBDT.predict(Xtest)\n",
    "\n",
    "print(\"Accuracy : %.4g\" % metrics.accuracy_score(ytest.values, y_pred))\n",
    "print(\"f1 Score (Train): %f\" % metrics.f1_score(ytest, y_pred))"
   ]
  },
  {
   "cell_type": "code",
   "execution_count": 14,
   "metadata": {
    "collapsed": false
   },
   "outputs": [
    {
     "data": {
      "image/png": "[encoded data removed]",
      "text/plain": [
       "<Figure size 960x640 with 1 Axes>"
      ]
     },
     "metadata": {},
     "output_type": "display_data"
    }
   ],
   "source": [
    "%matplotlib inline\n",
    "# Plot feature importance\n",
    "def plot_feature_importance(clf, feature_names):\n",
    "    feature_importance = clf.feature_importances_\n",
    "    # make importances relative to max importance\n",
    "    feature_importance = 100.0 * (feature_importance / feature_importance.max())\n",
    "    sorted_idx = np.argsort(feature_importance)\n",
    "    pos = np.arange(sorted_idx.shape[0]) + .5\n",
    "    plt.figure(figsize=(12,8), dpi= 80)\n",
    "    #plt.subplot(1, 2, 2)\n",
    "    plt.barh(pos, feature_importance[sorted_idx], align='center')\n",
    "    # plt.yticks(pos, feature_names[sorted_idx])\n",
    "    plt.yticks(pos, [feature_names[idx] for idx in sorted_idx])\n",
    "    plt.xlabel('Relative Importance')\n",
    "    plt.title('Variable Importance')\n",
    "    #plt.savefig(\"result/特征重要程度.jpg\", dpi=300)  # 保存图片到本地\n",
    "    plt.show()\n",
    "    \n",
    "plot_feature_importance(GBDT, Xtrain.columns)"
   ]
  },
  {
   "cell_type": "markdown",
   "metadata": {
    "collapsed": false
   },
   "source": [
    "机器学习中的一大难点就是参数调优，每个模型会有很多可调节的模型参数。\n",
    "模型参数（Hyperparameters）调优的通用做法是Grid Search或者Random Search，Sklearn中已经提供了相应的方法GridSearchCV和RandomizedSearchCV。 这两种搜索方法都包括Search和CV两步，即搜索和交叉验证。\n",
    "\n",
    "GridSearch在需要调节参数的指定取值范围，遍历所有组合寻，比如有两个参数，第一个有两种值，第二个有三种，那就会有六种组合。GridSearch会对每种参数组合做一遍交叉验证，记录模型得分，最后找到得分最好的那个参数组合。GridSearchCV可以保证在指定的参数范围内找到精度最高的参数，但它要求遍历所有可能参数的组合，在面对大数据集和多参数的情况下会非常耗时。\n",
    "\n",
    "RandomizedSearchCV的使用方法其实是和GridSearchCV一致的，但它以随机在参数空间中采样的方式代替了GridSearchCV对于参数的网格搜索，在对于有连续变量的参数时，RandomizedSearchCV会将其当作一个分布进行采样，它的搜索能力取决于设定的循环n_iter参数。"
   ]
  },
  {
   "cell_type": "code",
   "execution_count": 15,
   "metadata": {
    "collapsed": false
   },
   "outputs": [
    {
     "name": "stdout",
     "output_type": "stream",
     "text": [
      " param_grid:  {'max_depth': array([10, 15]), 'min_samples_split': array([50, 60, 70, 80, 90])}\n",
      "网格搜索-最佳度量值: 0.8789206349206348\n",
      "网格搜索-最佳参数： {'max_depth': 10, 'min_samples_split': 60}\n",
      "网格搜索-最佳模型： GradientBoostingClassifier(ccp_alpha=0.0, criterion='friedman_mse', init=None,\n",
      "                           learning_rate=0.1, loss='deviance', max_depth=10,\n",
      "                           max_features=None, max_leaf_nodes=None,\n",
      "                           min_impurity_decrease=0.0, min_impurity_split=None,\n",
      "                           min_samples_leaf=1, min_samples_split=60,\n",
      "                           min_weight_fraction_leaf=0.0, n_estimators=100,\n",
      "                           n_iter_no_change=None, presort='deprecated',\n",
      "                           random_state=90, subsample=1.0, tol=0.0001,\n",
      "                           validation_fraction=0.1, verbose=0,\n",
      "                           warm_start=False)\n"
     ]
    }
   ],
   "source": [
    "# 网格寻参,寻找最优'max_depth'、'min_samples_split'；耗时费力，数据集大的时候不好用\n",
    "\n",
    "param_grid = {'max_depth':np.arange(10, 20, 5), #决策树最大深度max_depth和内部节点再划分所需最小样本数min_samples_split\n",
    "              'min_samples_split':np.arange(50, 100, 10)}\n",
    "print(\" param_grid: \", param_grid)\n",
    "\n",
    "gbdt = GradientBoostingClassifier(random_state=90)\n",
    "GS = GridSearchCV(gbdt,param_grid,n_jobs=-1,cv=3)\n",
    "GS.fit(Xtrain,ytrain)\n",
    "# print('网格搜索-度量记录：',GS.cv_results_)  # 包含每次训练的相关信息\n",
    "print('网格搜索-最佳度量值:',GS.best_score_)  # 获取最佳度量值\n",
    "print('网格搜索-最佳参数：',GS.best_params_)  # 获取最佳度量值时的代定参数的值。是一个字典\n",
    "print('网格搜索-最佳模型：',GS.best_estimator_)  # 获取最佳度量时的分类器模型\n"
   ]
  },
  {
   "cell_type": "code",
   "execution_count": 16,
   "metadata": {
    "collapsed": false
   },
   "outputs": [
    {
     "name": "stdout",
     "output_type": "stream",
     "text": [
      "网格搜索-最佳度量值: 0.8809523809523809\n",
      "网格搜索-最佳参数： {'subsample': 0.731578947368421, 'n_estimators': 88, 'min_samples_split': 700, 'min_samples_leaf': 100, 'max_features': 9, 'max_depth': 14, 'learning_rate': 0.1}\n",
      "网格搜索-最佳模型： GradientBoostingClassifier(ccp_alpha=0.0, criterion='friedman_mse', init=None,\n",
      "                           learning_rate=0.1, loss='deviance', max_depth=14,\n",
      "                           max_features=9, max_leaf_nodes=None,\n",
      "                           min_impurity_decrease=0.0, min_impurity_split=None,\n",
      "                           min_samples_leaf=100, min_samples_split=700,\n",
      "                           min_weight_fraction_leaf=0.0, n_estimators=88,\n",
      "                           n_iter_no_change=None, presort='deprecated',\n",
      "                           random_state=None, subsample=0.731578947368421,\n",
      "                           tol=0.0001, validation_fraction=0.1, verbose=0,\n",
      "                           warm_start=False)\n"
     ]
    }
   ],
   "source": [
    "# 随机策略寻参\n",
    "param_dist = {\n",
    "    'learning_rate':np.linspace(0.1,2,20), #步长(learning rate)和迭代次数(n_estimators)\n",
    "    'n_estimators':range(80,200,4),\n",
    "    'max_depth':range(2,15,1), #决策树最大深度max_depth和内部节点再划分所需最小样本数min_samples_split、叶子节点最少样本数\n",
    "    'min_samples_split':range(100,801,200),\n",
    "    'min_samples_leaf':range(60,101,10),\n",
    "    'max_features':range(7,20,2), #最大特征数max_features\n",
    "    'subsample':np.linspace(0.7,0.9,20) #子采样的比例\n",
    "}\n",
    "\n",
    "gbdt = GradientBoostingClassifier()\n",
    "RS = RandomizedSearchCV(gbdt,param_dist,cv = 3,scoring = 'accuracy',n_iter=10,n_jobs = -1)\n",
    "\n",
    "#在训练集上训练\n",
    "RS.fit(Xtrain, ytrain)\n",
    "#返回最优的训练器\n",
    "\n",
    "#print('网格搜索-度量记录：',RS.cv_results_)  # 包含每次训练的相关信息\n",
    "print('网格搜索-最佳度量值:',RS.best_score_)  # 获取最佳度量值\n",
    "print('网格搜索-最佳参数：',RS.best_params_)  # 获取最佳度量值时的代定参数的值。是一个字典\n",
    "print('网格搜索-最佳模型：',RS.best_estimator_)  # 获取最佳度量时的分类器模型\n"
   ]
  },
  {
   "cell_type": "code",
   "execution_count": 18,
   "metadata": {
    "collapsed": false
   },
   "outputs": [
    {
     "name": "stdout",
     "output_type": "stream",
     "text": [
      "Accuracy : 0.8843\n",
      "F1 Score (Train): 0.428676\n"
     ]
    }
   ],
   "source": [
    "# 建模\n",
    "GBDT = RS.best_estimator_\n",
    "GBDT.fit(Xtrain, ytrain)\n",
    "GBDT.score(Xtest, ytest)\n",
    "y_pred= GBDT.predict(Xtest)\n",
    "y_predprob= GBDT.predict_proba(Xtest)[:,1]\n",
    "print(\"Accuracy : %.4g\" % metrics.accuracy_score(ytest.values, y_pred))\n",
    "print(\"F1 Score (Train): %f\" % metrics.f1_score(ytest, y_pred))"
   ]
  },
  {
   "cell_type": "code",
   "execution_count": 13,
   "metadata": {
    "collapsed": false
   },
   "outputs": [
    {
     "name": "stdout",
     "output_type": "stream",
     "text": [
      "Looking in indexes: https://pypi.tuna.tsinghua.edu.cn/simple\r\n",
      "Requirement already satisfied: joblib in /opt/conda/envs/python35-paddle120-env/lib/python3.7/site-packages (0.14.1)\r\n"
     ]
    }
   ],
   "source": [
    "# 模型保存与载入\n",
    "!pip install joblib\n",
    "import joblib\n",
    "joblib.dump(GBDT, \"/home/aistudio/work/GBDT.model\")\n",
    "GBDT = joblib.load(\"/home/aistudio/work/GBDT.model\")"
   ]
  },
  {
   "cell_type": "code",
   "execution_count": 19,
   "metadata": {
    "collapsed": false
   },
   "outputs": [],
   "source": [
    "# 载入测试集，结果输出\n",
    "data_test = pd.read_csv('/home/aistudio/test.csv')\n",
    "\n",
    "id = data_test.id\n",
    "data_test.drop(['id'], axis=1, inplace=True)\n",
    "data_test_dummy = pd.get_dummies(data_test.select_dtypes(include=['object']))\n",
    "data_test_oh = pd.concat([data_test_dummy, data_test.select_dtypes(exclude=['object'])], axis=1)\n",
    "pred = GBDT.predict(data_test_oh)\n",
    "\n",
    "data_out = pd.DataFrame(pred, index=id, columns=['subscribe'])\n",
    "data_out['subscribe'] = data_out['subscribe'].map({0:'no', 1:'yes'})\n",
    "data_out.to_csv('/home/aistudio/work/202031100314.csv')"
   ]
  },
  {
   "cell_type": "markdown",
   "metadata": {
    "collapsed": false
   },
   "source": [
    "\n",
    "### 反馈与建议\n",
    "- 联系人：shangfr\n",
    "- 邮箱：shangfr@foxmail.com"
   ]
  }
 ],
 "metadata": {
  "kernelspec": {
   "display_name": "Python 3",
   "language": "python",
   "name": "py35-paddle1.2.0"
  },
  "language_info": {
   "codemirror_mode": {
    "name": "ipython",
    "version": 3
   },
   "file_extension": ".py",
   "mimetype": "text/x-python",
   "name": "python",
   "nbconvert_exporter": "python",
   "pygments_lexer": "ipython3",
   "version": "3.7.4"
  }
 },
 "nbformat": 4,
 "nbformat_minor": 1
}
